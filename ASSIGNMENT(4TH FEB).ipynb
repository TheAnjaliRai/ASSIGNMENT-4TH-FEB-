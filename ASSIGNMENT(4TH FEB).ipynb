{
 "cells": [
  {
   "cell_type": "code",
   "execution_count": 2,
   "id": "b109afe7",
   "metadata": {},
   "outputs": [
    {
     "name": "stdout",
     "output_type": "stream",
     "text": [
      "[('virat kohli', 24936), ('jack kallis', 25534), ('ricky ponting', 27483), ('sachin tendulkar', 34357)]\n"
     ]
    }
   ],
   "source": [
    "#ques1 \n",
    "li=[('sachin tendulkar' , 34357) , ('ricky ponting' , 27483) ,(\"jack kallis\" , 25534) ,('virat kohli' , 24936)]\n",
    "li.sort(key = lambda x : x[1] )\n",
    "print(li)"
   ]
  },
  {
   "cell_type": "code",
   "execution_count": 3,
   "id": "6d80adc2",
   "metadata": {},
   "outputs": [
    {
     "data": {
      "text/plain": [
       "[1, 4, 9, 16, 25, 36, 49, 64, 81, 100]"
      ]
     },
     "execution_count": 3,
     "metadata": {},
     "output_type": "execute_result"
    }
   ],
   "source": [
    "#ques2\n",
    "li1 = [1,2,3,4,5,6,7,8,9,10]\n",
    "list(map(lambda x : x*x , li1))"
   ]
  },
  {
   "cell_type": "code",
   "execution_count": 6,
   "id": "be9fa232",
   "metadata": {},
   "outputs": [
    {
     "data": {
      "text/plain": [
       "('1', '2', '3', '4', '5', '6', '7', '8', '9', '10')"
      ]
     },
     "execution_count": 6,
     "metadata": {},
     "output_type": "execute_result"
    }
   ],
   "source": [
    "#ques3\n",
    "li_int = [1,2,3,4,5,6,7,8,9,10]\n",
    "tuple(map(lambda x :str(x) , li_int))"
   ]
  },
  {
   "cell_type": "code",
   "execution_count": 10,
   "id": "65754d1e",
   "metadata": {},
   "outputs": [
    {
     "data": {
      "text/plain": [
       "15511210043330985984000000"
      ]
     },
     "execution_count": 10,
     "metadata": {},
     "output_type": "execute_result"
    }
   ],
   "source": [
    "#ques4\n",
    "from functools import reduce\n",
    "list1 = list(range(1,26))\n",
    "reduce(lambda x,y :x*y , list1)\n"
   ]
  },
  {
   "cell_type": "code",
   "execution_count": 16,
   "id": "7f6c3488",
   "metadata": {},
   "outputs": [
    {
     "data": {
      "text/plain": [
       "[60, 90, 120]"
      ]
     },
     "execution_count": 16,
     "metadata": {},
     "output_type": "execute_result"
    }
   ],
   "source": [
    "#ques5\n",
    "li = [2,3,6,9,27,60,90,120,55,46]\n",
    "list(filter(lambda x : x%2==0 and x%5==0 ,li))"
   ]
  },
  {
   "cell_type": "code",
   "execution_count": 21,
   "id": "1ae148a4",
   "metadata": {},
   "outputs": [
    {
     "data": {
      "text/plain": [
       "['php', 'aba', 'radar', 'level']"
      ]
     },
     "execution_count": 21,
     "metadata": {},
     "output_type": "execute_result"
    }
   ],
   "source": [
    "#ques6\n",
    "given = ['python' ,'php' ,'aba' , 'radar' , 'level']\n",
    "list(filter(lambda x : x==x[::-1] , given))"
   ]
  }
 ],
 "metadata": {
  "kernelspec": {
   "display_name": "Python 3 (ipykernel)",
   "language": "python",
   "name": "python3"
  },
  "language_info": {
   "codemirror_mode": {
    "name": "ipython",
    "version": 3
   },
   "file_extension": ".py",
   "mimetype": "text/x-python",
   "name": "python",
   "nbconvert_exporter": "python",
   "pygments_lexer": "ipython3",
   "version": "3.9.12"
  }
 },
 "nbformat": 4,
 "nbformat_minor": 5
}
